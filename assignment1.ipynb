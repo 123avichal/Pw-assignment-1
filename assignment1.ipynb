{
 "cells": [
  {
   "cell_type": "code",
   "execution_count": null,
   "id": "8502c789-3e86-44b3-bedb-0e7f6da54f3a",
   "metadata": {},
   "outputs": [],
   "source": [
    "# ans1"
   ]
  },
  {
   "cell_type": "code",
   "execution_count": null,
   "id": "70165053-0c28-4ee6-a701-48c63ff0ed1a",
   "metadata": {},
   "outputs": [],
   "source": []
  },
  {
   "cell_type": "code",
   "execution_count": null,
   "id": "b992bd07-40fb-44e9-b563-bc8556fb9ab5",
   "metadata": {},
   "outputs": [],
   "source": []
  },
  {
   "cell_type": "code",
   "execution_count": 1,
   "id": "71c2e39a-b5b8-4849-85ce-abd4ada03447",
   "metadata": {},
   "outputs": [],
   "source": [
    "a = 'my name is avichal saxena'"
   ]
  },
  {
   "cell_type": "code",
   "execution_count": 2,
   "id": "905dda24-c266-4499-9a92-7fd5af1e56fe",
   "metadata": {},
   "outputs": [],
   "source": [
    "l= [44,66.66,True,6+8j,\"avi\"]"
   ]
  },
  {
   "cell_type": "code",
   "execution_count": 3,
   "id": "c577b811-6b08-49e7-80b5-bf67f5903edc",
   "metadata": {},
   "outputs": [],
   "source": [
    "b= 9.88"
   ]
  },
  {
   "cell_type": "code",
   "execution_count": 7,
   "id": "16dfe0bd-23c7-40e3-8f41-7612727dfa14",
   "metadata": {},
   "outputs": [],
   "source": [
    "t = (1,2,34,5,)"
   ]
  },
  {
   "cell_type": "code",
   "execution_count": null,
   "id": "0492f54c-9ce8-43d6-a34b-a084ab2f4b38",
   "metadata": {},
   "outputs": [],
   "source": [
    "#Q2"
   ]
  },
  {
   "cell_type": "code",
   "execution_count": null,
   "id": "27fafdbc-1763-47e3-9693-671d34f95f59",
   "metadata": {},
   "outputs": [],
   "source": [
    "1 string\n",
    "2 error\n",
    "3 list\n",
    "4 float"
   ]
  },
  {
   "cell_type": "code",
   "execution_count": null,
   "id": "53035e33-ab85-4607-803e-7c6729fb3503",
   "metadata": {},
   "outputs": [],
   "source": [
    "# Q3"
   ]
  },
  {
   "cell_type": "code",
   "execution_count": 4,
   "id": "5f86c0f8-466b-4f14-817c-7d888919890e",
   "metadata": {},
   "outputs": [],
   "source": [
    "a = 1/2 # divisible operator"
   ]
  },
  {
   "cell_type": "code",
   "execution_count": 5,
   "id": "d764a672-6d61-4ff2-9037-67070ab2992d",
   "metadata": {},
   "outputs": [
    {
     "data": {
      "text/plain": [
       "0.5"
      ]
     },
     "execution_count": 5,
     "metadata": {},
     "output_type": "execute_result"
    }
   ],
   "source": [
    "a "
   ]
  },
  {
   "cell_type": "code",
   "execution_count": 7,
   "id": "46377a44-6a23-48d2-b446-f26f2cc019cf",
   "metadata": {},
   "outputs": [],
   "source": [
    "a=3%4"
   ]
  },
  {
   "cell_type": "code",
   "execution_count": 8,
   "id": "13837901-8fc1-4662-b752-5d6393811191",
   "metadata": {},
   "outputs": [
    {
     "data": {
      "text/plain": [
       "3"
      ]
     },
     "execution_count": 8,
     "metadata": {},
     "output_type": "execute_result"
    }
   ],
   "source": [
    "a # modulus operator"
   ]
  },
  {
   "cell_type": "code",
   "execution_count": 9,
   "id": "d90916c9-b8ee-495f-8624-67b31a0a61a2",
   "metadata": {},
   "outputs": [],
   "source": [
    "a=10//20 # divisible floor"
   ]
  },
  {
   "cell_type": "code",
   "execution_count": 10,
   "id": "c34abcd6-3386-4f3c-887d-20ffc0eb07dc",
   "metadata": {},
   "outputs": [
    {
     "data": {
      "text/plain": [
       "0"
      ]
     },
     "execution_count": 10,
     "metadata": {},
     "output_type": "execute_result"
    }
   ],
   "source": [
    "a"
   ]
  },
  {
   "cell_type": "code",
   "execution_count": 12,
   "id": "ecede2c0-e34e-4d7a-935e-9a5aa8545a88",
   "metadata": {},
   "outputs": [],
   "source": [
    "v=4**4 # exponential operator"
   ]
  },
  {
   "cell_type": "code",
   "execution_count": 13,
   "id": "78f5a311-8948-4842-9fcc-8a88afc49339",
   "metadata": {},
   "outputs": [
    {
     "data": {
      "text/plain": [
       "256"
      ]
     },
     "execution_count": 13,
     "metadata": {},
     "output_type": "execute_result"
    }
   ],
   "source": [
    "v"
   ]
  },
  {
   "cell_type": "code",
   "execution_count": null,
   "id": "3152a885-8bc1-456e-87c6-a9125ea1849a",
   "metadata": {},
   "outputs": [],
   "source": [
    "#Q4"
   ]
  },
  {
   "cell_type": "code",
   "execution_count": 16,
   "id": "8b625fe0-0b08-4a22-9361-c3d5a34eb47e",
   "metadata": {},
   "outputs": [
    {
     "name": "stdout",
     "output_type": "stream",
     "text": [
      "<class 'int'>\n",
      "<class 'int'>\n",
      "<class 'int'>\n",
      "<class 'int'>\n",
      "<class 'int'>\n",
      "<class 'int'>\n",
      "<class 'float'>\n",
      "<class 'bool'>\n",
      "<class 'complex'>\n",
      "<class 'str'>\n"
     ]
    }
   ],
   "source": [
    "l=[1,2,3,4,5,6,5.55,True,7+8j,'hello']\n",
    "for i in l:\n",
    "    print(type(i))"
   ]
  },
  {
   "cell_type": "code",
   "execution_count": null,
   "id": "90b02913-2aff-4754-b2b6-f123b8fc2bc8",
   "metadata": {},
   "outputs": [],
   "source": [
    "# Q5"
   ]
  },
  {
   "cell_type": "code",
   "execution_count": 10,
   "id": "38013c90-6d56-499a-8fac-025f2a6a4909",
   "metadata": {},
   "outputs": [
    {
     "name": "stdout",
     "output_type": "stream",
     "text": [
      "2\n"
     ]
    }
   ],
   "source": [
    "a = 6\n",
    "b = 2\n",
    "while b/a:\n",
    "    print(b)\n",
    "    b=b+2\n",
    "    break"
   ]
  },
  {
   "cell_type": "code",
   "execution_count": null,
   "id": "4514e2c9-d98f-4e65-ad38-b472b78bbec4",
   "metadata": {},
   "outputs": [],
   "source": [
    "#Q6"
   ]
  },
  {
   "cell_type": "code",
   "execution_count": 15,
   "id": "410380d5-11bf-4229-b6d7-e587e35c947f",
   "metadata": {},
   "outputs": [
    {
     "ename": "SyntaxError",
     "evalue": "invalid syntax (1741482966.py, line 4)",
     "output_type": "error",
     "traceback": [
      "\u001b[0;36m  Cell \u001b[0;32mIn[15], line 4\u001b[0;36m\u001b[0m\n\u001b[0;31m    else:\u001b[0m\n\u001b[0m    ^\u001b[0m\n\u001b[0;31mSyntaxError\u001b[0m\u001b[0;31m:\u001b[0m invalid syntax\n"
     ]
    }
   ],
   "source": [
    "l=[25]\n",
    "for i in l:\n",
    "    if l/3:\n",
    "        else:\n",
    "            print('hello')\n",
    "        \n",
    "  \n",
    "     \n",
    "            \n",
    "        \n"
   ]
  },
  {
   "cell_type": "code",
   "execution_count": null,
   "id": "3a0b206b-f7b0-4a32-9255-09318bf77bdb",
   "metadata": {},
   "outputs": [],
   "source": [
    "/"
   ]
  },
  {
   "cell_type": "code",
   "execution_count": null,
   "id": "bf5d8fd3-e441-43f1-a429-b60c54a8ceed",
   "metadata": {},
   "outputs": [],
   "source": [
    "#Q7"
   ]
  },
  {
   "cell_type": "code",
   "execution_count": 18,
   "id": "ff844b11-a407-4c99-8928-4e8b798c4958",
   "metadata": {},
   "outputs": [],
   "source": [
    "l= [7,7.77,True,8+8j]"
   ]
  },
  {
   "cell_type": "code",
   "execution_count": 19,
   "id": "b3f694f7-8c76-4deb-b11a-5ef23a2b0e7d",
   "metadata": {},
   "outputs": [],
   "source": [
    "l[0]=89"
   ]
  },
  {
   "cell_type": "code",
   "execution_count": 20,
   "id": "2c9575ad-2a2b-4980-9939-9d7ddece7403",
   "metadata": {},
   "outputs": [
    {
     "data": {
      "text/plain": [
       "[89, 7.77, True, (8+8j)]"
      ]
     },
     "execution_count": 20,
     "metadata": {},
     "output_type": "execute_result"
    }
   ],
   "source": [
    "l"
   ]
  },
  {
   "cell_type": "code",
   "execution_count": 21,
   "id": "f6bc1ec0-0eb0-4c96-b2cc-c65a4e0dc093",
   "metadata": {},
   "outputs": [],
   "source": [
    " s = 'hello world'"
   ]
  },
  {
   "cell_type": "code",
   "execution_count": 23,
   "id": "3e34b6da-0ea9-48ef-a4c1-c9f795b0de29",
   "metadata": {},
   "outputs": [
    {
     "ename": "TypeError",
     "evalue": "'str' object does not support item assignment",
     "output_type": "error",
     "traceback": [
      "\u001b[0;31m---------------------------------------------------------------------------\u001b[0m",
      "\u001b[0;31mTypeError\u001b[0m                                 Traceback (most recent call last)",
      "Cell \u001b[0;32mIn[23], line 1\u001b[0m\n\u001b[0;32m----> 1\u001b[0m \u001b[43ms\u001b[49m\u001b[43m[\u001b[49m\u001b[38;5;241;43m0\u001b[39;49m\u001b[43m]\u001b[49m\u001b[38;5;241m=\u001b[39mi\n",
      "\u001b[0;31mTypeError\u001b[0m: 'str' object does not support item assignment"
     ]
    }
   ],
   "source": [
    "s[0]=i\n"
   ]
  },
  {
   "cell_type": "code",
   "execution_count": 24,
   "id": "0bbd56e1-c54c-408e-95b0-25061f1cbe2d",
   "metadata": {},
   "outputs": [],
   "source": [
    "# mutable data type are those where we are apply to change whreas in immutable change not apply"
   ]
  }
 ],
 "metadata": {
  "kernelspec": {
   "display_name": "Python 3 (ipykernel)",
   "language": "python",
   "name": "python3"
  },
  "language_info": {
   "codemirror_mode": {
    "name": "ipython",
    "version": 3
   },
   "file_extension": ".py",
   "mimetype": "text/x-python",
   "name": "python",
   "nbconvert_exporter": "python",
   "pygments_lexer": "ipython3",
   "version": "3.10.8"
  }
 },
 "nbformat": 4,
 "nbformat_minor": 5
}
